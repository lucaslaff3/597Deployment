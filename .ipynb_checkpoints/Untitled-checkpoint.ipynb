{
 "cells": [
  {
   "cell_type": "code",
   "execution_count": 48,
   "id": "c4553ea9-d47e-4aaa-9424-df873f3570b8",
   "metadata": {},
   "outputs": [
    {
     "data": {
      "text/plain": [
       "['rf_model.joblib']"
      ]
     },
     "execution_count": 48,
     "metadata": {},
     "output_type": "execute_result"
    }
   ],
   "source": [
    "# Standard library imports\n",
    "import joblib\n",
    "import json\n",
    "import pathlib\n",
    "import warnings\n",
    "warnings.filterwarnings(\"ignore\")\n",
    "\n",
    "# Third-party library imports\n",
    "import numpy as np\n",
    "import pandas as pd\n",
    "from sklearn.ensemble import RandomForestClassifier\n",
    "from sklearn.model_selection import train_test_split, GridSearchCV\n",
    "from sklearn.preprocessing import StandardScaler\n",
    "\n",
    "# Read data\n",
    "data_filepath = pathlib.Path('train.csv')\n",
    "data = pd.read_csv(data_filepath)\n",
    "\n",
    "# Create \"dummy\" columns for categorical data\n",
    "dummy_column_mapper = {}\n",
    "for col in data.columns:\n",
    "    if data[col].dtype == 'object':\n",
    "        temp = pd.get_dummies(data[col], prefix=col, drop_first=True)\n",
    "        data = data.drop(columns=[col])\n",
    "        data[temp.columns] = temp\n",
    "        dummy_column_mapper[col] = temp.columns.tolist()\n",
    "\n",
    "# Save mapper for dummy columns\n",
    "with open('dummy_column_mapper.json', 'w') as fout:\n",
    "    json.dump(dummy_column_mapper, fout)\n",
    "\n",
    "# Prepare data for model training\n",
    "target = 'Exited'\n",
    "features = [col for col in data.columns if col != target]\n",
    "binary_columns = [col for col in features if sorted(data[col].unique().tolist()) == [0, 1]]\n",
    "\n",
    "X = data[features].copy()\n",
    "y = data[target]\n",
    "\n",
    "X_train, X_test, y_train, y_test = train_test_split(\n",
    "    X, \n",
    "    y, \n",
    "    test_size=0.25, \n",
    "    random_state=42,\n",
    ")\n",
    "\n",
    "# Save column order of training data\n",
    "with open('col_order.json', 'w') as fout:\n",
    "    json.dump(X_train.columns.tolist(), fout)\n",
    "\n",
    "# Fit scaler\n",
    "scaler = StandardScaler()\n",
    "scaler = scaler.fit(X_train)\n",
    "\n",
    "# Save scaling information\n",
    "scaler_filepath = pathlib.Path('scaler_info.json')\n",
    "\n",
    "scaler_dict  = {}\n",
    "for feature, mean, scale in zip(features, scaler.mean_, scaler.scale_):\n",
    "    if feature in binary_columns:\n",
    "        scaler_dict[feature] = {\n",
    "            'mean': 0,\n",
    "            'std': 1,\n",
    "        }\n",
    "    else:\n",
    "        scaler_dict[feature] = {\n",
    "            'mean': mean,\n",
    "            'std': scale,\n",
    "        }\n",
    "        \n",
    "with open(scaler_filepath, 'w') as fout:\n",
    "    json.dump(scaler_dict, fout)\n",
    "    \n",
    "# Scale data\n",
    "for col, col_params in scaler_dict.items():\n",
    "    X_train.loc[:, col] = (X_train.loc[:, col] - col_params['mean'])/col_params['std']\n",
    "    X_test.loc[:, col] = (X_test.loc[:, col] - col_params['mean'])/col_params['std']\n",
    "\n",
    "# Fit random forest model\n",
    "params = {\n",
    "    'criterion': ['gini', 'entropy'], \n",
    "    'max_depth': [5, 10, 15], \n",
    "    'n_estimators': [100, 300, 500], \n",
    "}\n",
    "\n",
    "clf = GridSearchCV(RandomForestClassifier(random_state=0), params, error_score=0)\n",
    "search = clf.fit(X_train, y_train)\n",
    "best_params = search.best_params_ \n",
    "\n",
    "clf = RandomForestClassifier(random_state=0, **best_params)\n",
    "clf = clf.fit(X_train.values, y_train.values) \n",
    "\n",
    "# Save model\n",
    "joblib.dump(clf, 'rf_model.joblib')"
   ]
  },
  {
   "cell_type": "code",
   "execution_count": 49,
   "id": "9b25c3b7-cccb-47ba-8955-45cdd7d1d1dc",
   "metadata": {},
   "outputs": [
    {
     "data": {
      "text/plain": [
       "{'criterion': 'gini', 'max_depth': 10, 'n_estimators': 500}"
      ]
     },
     "execution_count": 49,
     "metadata": {},
     "output_type": "execute_result"
    }
   ],
   "source": [
    "best_params"
   ]
  },
  {
   "cell_type": "code",
   "execution_count": 41,
   "id": "244dcdc4-6083-4198-ace3-6034f62aea71",
   "metadata": {},
   "outputs": [
    {
     "data": {
      "text/plain": [
       "{'CreditScore': 456,\n",
       " 'Geography': 'France',\n",
       " 'Gender': 'Female',\n",
       " 'Age': 63,\n",
       " 'Tenure': 1,\n",
       " 'Balance': 165350.61,\n",
       " 'NumOfProducts': 2,\n",
       " 'HasCrCard': 0,\n",
       " 'IsActiveMember': 0,\n",
       " 'EstimatedSalary': 140758.07}"
      ]
     },
     "execution_count": 41,
     "metadata": {},
     "output_type": "execute_result"
    }
   ],
   "source": [
    "new = pd.read_csv(data_filepath)\n",
    "features = [col for col in new.columns if col != target]\n",
    "\n",
    "raw_payload = new[features].loc[9].to_dict()\n",
    "raw_payload"
   ]
  },
  {
   "cell_type": "code",
   "execution_count": 42,
   "id": "a83b8b46-7dc2-4dfc-b1d7-d4e3c0f000bf",
   "metadata": {},
   "outputs": [
    {
     "data": {
      "text/plain": [
       "1"
      ]
     },
     "execution_count": 42,
     "metadata": {},
     "output_type": "execute_result"
    }
   ],
   "source": [
    "with open('dummy_column_mapper.json') as fin:\n",
    "    dummy_column_mapper = json.load(fin)\n",
    "    \n",
    "with open('scaler_info.json') as fin:\n",
    "    scaler_info = json.load(fin)\n",
    "    \n",
    "with open('col_order.json') as fin:\n",
    "    col_order = json.load(fin)\n",
    "    \n",
    "payload = dict(raw_payload)\n",
    "for column, dummy_columns in dummy_column_mapper.items():\n",
    "    for dummy_column in dummy_columns:\n",
    "        payload[dummy_column] = 0\n",
    "    if column in payload:\n",
    "        column_val = payload.pop(column)\n",
    "        target_column = f'{column}_{column_val}'\n",
    "        payload[target_column] = 1\n",
    "        \n",
    "for key, scaler_params in scaler_info.items():\n",
    "    if key in payload:\n",
    "        payload[key] = (payload[key] - scaler_params['mean'])/scaler_params['std']\n",
    "    else:\n",
    "        payload[key] = scaler_params['mean']\n",
    "        \n",
    "ordered_payload = {}\n",
    "for col in col_order:\n",
    "    ordered_payload[col] = payload[col]\n",
    "    \n",
    "int(clf.predict(np.array(list(ordered_payload.values())).reshape(1, -1)))"
   ]
  },
  {
   "cell_type": "code",
   "execution_count": null,
   "id": "df393bab-afad-4cf6-bc33-29189e3ebae2",
   "metadata": {},
   "outputs": [],
   "source": []
  }
 ],
 "metadata": {
  "kernelspec": {
   "display_name": "Python 3 (ipykernel)",
   "language": "python",
   "name": "python3"
  },
  "language_info": {
   "codemirror_mode": {
    "name": "ipython",
    "version": 3
   },
   "file_extension": ".py",
   "mimetype": "text/x-python",
   "name": "python",
   "nbconvert_exporter": "python",
   "pygments_lexer": "ipython3",
   "version": "3.8.12"
  }
 },
 "nbformat": 4,
 "nbformat_minor": 5
}
