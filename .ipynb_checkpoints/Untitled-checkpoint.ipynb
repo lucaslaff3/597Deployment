{
 "cells": [
  {
   "cell_type": "code",
   "execution_count": null,
   "id": "c4553ea9-d47e-4aaa-9424-df873f3570b8",
   "metadata": {},
   "outputs": [],
   "source": [
    "# Standard library imports\n",
    "import joblib\n",
    "import json\n",
    "import pathlib\n",
    "import warnings\n",
    "warnings.filterwarnings(\"ignore\")\n",
    "\n",
    "# Third-party library imports\n",
    "import numpy as np\n",
    "import pandas as pd\n",
    "from sklearn.ensemble import RandomForestClassifier\n",
    "from sklearn.model_selection import train_test_split, GridSearchCV\n",
    "from sklearn.preprocessing import StandardScaler\n",
    "\n",
    "# Read data\n",
    "data_filepath = pathlib.Path('train.csv')\n",
    "data = pd.read_csv(data_filepath)"
   ]
  }
 ],
 "metadata": {
  "kernelspec": {
   "display_name": "Python 3 (ipykernel)",
   "language": "python",
   "name": "python3"
  },
  "language_info": {
   "codemirror_mode": {
    "name": "ipython",
    "version": 3
   },
   "file_extension": ".py",
   "mimetype": "text/x-python",
   "name": "python",
   "nbconvert_exporter": "python",
   "pygments_lexer": "ipython3",
   "version": "3.8.12"
  }
 },
 "nbformat": 4,
 "nbformat_minor": 5
}
